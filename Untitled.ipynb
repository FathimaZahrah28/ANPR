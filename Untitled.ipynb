{
 "cells": [
  {
   "cell_type": "code",
   "execution_count": 6,
   "id": "2994e8d5-069e-457f-9781-bc5ca3311694",
   "metadata": {},
   "outputs": [],
   "source": [
    "import cv2\n",
    "\n",
    "# Inisialisasi objek untuk mengakses webcam\n",
    "cap = cv2.VideoCapture(0)  # Angka 0 menandakan penggunaan webcam bawaan (jika Anda memiliki lebih dari satu webcam, Anda bisa mencoba nilai 1, 2, dan seterusnya)\n",
    "\n",
    "# Periksa apakah webcam terbuka dengan benar\n",
    "if not cap.isOpened():\n",
    "    print(\"Tidak dapat membuka kamera\")\n",
    "    exit()\n",
    "\n",
    "# Loop untuk menangkap gambar dari webcam\n",
    "while True:\n",
    "    # Membaca frame dari webcam\n",
    "    ret, frame = cap.read()\n",
    "\n",
    "    # Menampilkan frame webcam\n",
    "    cv2.imshow('Webcam', frame)\n",
    "\n",
    "    # Tekan 'q' untuk keluar dari loop\n",
    "    if cv2.waitKey(1) & 0xFF == ord('q'):\n",
    "        break\n",
    "\n",
    "# Menutup webcam dan menghentikan tampilan frame\n",
    "cap.release()\n",
    "cv2.destroyAllWindows()"
   ]
  },
  {
   "cell_type": "code",
   "execution_count": 4,
   "id": "c3d1d799-9ecc-434e-b0c8-46d5349875c6",
   "metadata": {},
   "outputs": [
    {
     "name": "stdout",
     "output_type": "stream",
     "text": [
      "Requirement already satisfied: opencv-python in c:\\users\\computer\\anaconda3\\lib\\site-packages (4.8.1.78)\n",
      "Requirement already satisfied: numpy>=1.17.0 in c:\\users\\computer\\anaconda3\\lib\\site-packages (from opencv-python) (1.22.4)\n"
     ]
    }
   ],
   "source": [
    "!pip install opencv-python"
   ]
  },
  {
   "cell_type": "code",
   "execution_count": null,
   "id": "0da1cc7a-8672-4b52-a5f3-4084d7e4391d",
   "metadata": {},
   "outputs": [],
   "source": [
    "import cv2\n",
    "\n",
    "harcascade = \"model/haarcascade_russian_plate_number.xml\"\n",
    "\n",
    "cap = cv2.VideoCapture(0)\n",
    "\n",
    "cap.set(3, 640) # width\n",
    "cap.set(4, 480) #height\n",
    "\n",
    "min_area = 500\n",
    "count = 0\n",
    "\n",
    "while True:\n",
    "    success, img = cap.read()\n",
    "\n",
    "    plate_cascade = cv2.CascadeClassifier(harcascade)\n",
    "    img_gray = cv2.cvtColor(img, cv2.COLOR_BGR2GRAY)\n",
    "\n",
    "    plates = plate_cascade.detectMultiScale(img_gray, 1.1, 4)\n",
    "\n",
    "    for (x,y,w,h) in plates:\n",
    "        area = w * h\n",
    "\n",
    "        if area > min_area:\n",
    "            cv2.rectangle(img, (x,y), (x+w, y+h), (0,255,0), 2)\n",
    "            cv2.putText(img, \"Number Plate\", (x,y-5), cv2.FONT_HERSHEY_COMPLEX_SMALL, 1, (255, 0, 255), 2)\n",
    "\n",
    "            img_roi = img[y: y+h, x:x+w]\n",
    "            cv2.imshow(\"ROI\", img_roi)\n",
    "            \n",
    "\n",
    "    \n",
    "    cv2.imshow(\"Result\", img)\n",
    "\n",
    "    if cv2.waitKey(1) & 0xFF == ord('s'):\n",
    "        cv2.imwrite(\"plates/scaned_img_\" + str(count) + \".jpg\", img_roi)\n",
    "        cv2.rectangle(img, (0,200), (640,300), (0,255,0), cv2.FILLED)\n",
    "        cv2.putText(img, \"Plate Saved\", (150, 265), cv2.FONT_HERSHEY_COMPLEX_SMALL, 2, (0, 0, 255), 2)\n",
    "        cv2.imshow(\"Results\",img)\n",
    "        cv2.waitKey(500)\n",
    "        count += 1\n"
   ]
  },
  {
   "cell_type": "code",
   "execution_count": 5,
   "id": "38485126-6185-47ce-9b1b-034ef6f2a2d3",
   "metadata": {},
   "outputs": [],
   "source": [
    "import cv2\n",
    "from matplotlib import pyplot as plt\n",
    "import numpy as np\n",
    "import imutils\n",
    "import easyocr"
   ]
  },
  {
   "cell_type": "code",
   "execution_count": 6,
   "id": "353a201a-be83-4e5d-8243-f03ccc58d161",
   "metadata": {},
   "outputs": [],
   "source": [
    "def save_results(text1, text2, csv_filename):\n",
    "    with open(csv_filename, mode='a', newline='') as f:\n",
    "        csv_writer = csv.writer(f, delimiter=',', quotechar='\"', quoting=csv.QUOTE_MINIMAL)\n",
    "        csv_writer.writerow([text1], [text2])"
   ]
  },
  {
   "cell_type": "code",
   "execution_count": 7,
   "id": "f482c4a9-581c-473c-979c-bb566058d969",
   "metadata": {},
   "outputs": [],
   "source": [
    "def read_plat(images):\n",
    "    import imutils\n",
    "    img = cv2.imread(images)\n",
    "    gray = cv2.cvtColor(img, cv2.COLOR_BGR2GRAY) #Grayscale and Blur\n",
    "    #Apply filter and find edges for localization\n",
    "    bfilter = cv2.bilateralFilter(gray, 11, 17, 17) #Noise reduction\n",
    "    edged = cv2.Canny(bfilter, 30, 200) #Edge detection\n",
    "    # Find Contours and Apply Mask\n",
    "    keypoints = cv2.findContours(edged.copy(), cv2.RETR_TREE, cv2.CHAIN_APPROX_SIMPLE)\n",
    "    contours = imutils.grab_contours(keypoints)\n",
    "    contours = sorted(contours, key=cv2.contourArea, reverse=True)[:10]\n",
    "    \n",
    "    location = None\n",
    "    for contour in contours:\n",
    "        approx = cv2.approxPolyDP(contour, 10, True)\n",
    "        if len(approx) == 4:\n",
    "            location = approx\n",
    "            break\n",
    "            \n",
    "    mask = np.zeros(gray.shape, np.uint8)\n",
    "    new_image = cv2.drawContours(mask, [location], 0,255, -1)\n",
    "    new_image = cv2.bitwise_and(img, img, mask=mask)\n",
    "    \n",
    "    (x,y) = np.where(mask==255)\n",
    "    (x1, y1) = (np.min(x), np.min(y))\n",
    "    (x2, y2) = (np.max(x), np.max(y))\n",
    "    cropped_image = gray[x1:x2+1, y1:y2+1]\n",
    "    \n",
    "    #use easy ocr to read text\n",
    "    reader = easyocr.Reader(['en'])\n",
    "    result = reader.readtext(cropped_image)\n",
    "    text = result[0][-2]\n",
    "    return text"
   ]
  },
  {
   "cell_type": "code",
   "execution_count": 10,
   "id": "f5fd1a00-66b6-449e-a1a1-5e7d01016264",
   "metadata": {},
   "outputs": [],
   "source": [
    "import csv\n",
    "\n",
    "def cek(filename):\n",
    "    with open(csv_filename, mode='r', newline='') as f:\n",
    "        csv_reader = csv.reader(f)\n",
    "        rows = list(csv_reader)\n",
    "\n",
    "        if len(rows) >= 2:  # Memastikan minimal ada dua baris untuk dibandingkan\n",
    "            text1 = rows[0][count]  # Mengambil nilai dari baris pertama\n",
    "            text2 = rows[1][count] # Mengambil nilai dari baris kedua\n",
    "\n",
    "            # Membandingkan nilai dari kedua baris\n",
    "            if text1 == text2:\n",
    "                print(\"silahkan lewat\")\n",
    "            else:\n",
    "                print(\" tidak cocok.\")\n",
    "        else:\n",
    "            print(\"Tidak cukup baris untuk dibandingkan.\")\n",
    "\n"
   ]
  },
  {
   "cell_type": "code",
   "execution_count": 9,
   "id": "87e2865f-59f3-4b9a-a2d6-d835c9f06dce",
   "metadata": {},
   "outputs": [
    {
     "ename": "NameError",
     "evalue": "name 'images' is not defined",
     "output_type": "error",
     "traceback": [
      "\u001b[1;31m---------------------------------------------------------------------------\u001b[0m",
      "\u001b[1;31mNameError\u001b[0m                                 Traceback (most recent call last)",
      "\u001b[1;32m~\\AppData\\Local\\Temp/ipykernel_1204/2167319067.py\u001b[0m in \u001b[0;36m<module>\u001b[1;34m\u001b[0m\n\u001b[0;32m     57\u001b[0m \u001b[0mcap\u001b[0m\u001b[1;33m.\u001b[0m\u001b[0mrelease\u001b[0m\u001b[1;33m(\u001b[0m\u001b[1;33m)\u001b[0m\u001b[1;33m\u001b[0m\u001b[1;33m\u001b[0m\u001b[0m\n\u001b[0;32m     58\u001b[0m \u001b[0mcv2\u001b[0m\u001b[1;33m.\u001b[0m\u001b[0mdestroyAllWindows\u001b[0m\u001b[1;33m(\u001b[0m\u001b[1;33m)\u001b[0m\u001b[1;33m\u001b[0m\u001b[1;33m\u001b[0m\u001b[0m\n\u001b[1;32m---> 59\u001b[1;33m \u001b[0mtext_1\u001b[0m \u001b[1;33m=\u001b[0m \u001b[0mread_plat\u001b[0m\u001b[1;33m(\u001b[0m\u001b[0mimages\u001b[0m\u001b[1;33m)\u001b[0m\u001b[1;33m\u001b[0m\u001b[1;33m\u001b[0m\u001b[0m\n\u001b[0m\u001b[0;32m     60\u001b[0m \u001b[0msave_results\u001b[0m\u001b[1;33m(\u001b[0m\u001b[0mtext_1\u001b[0m\u001b[1;33m,\u001b[0m \u001b[0mtext_2\u001b[0m\u001b[1;33m,\u001b[0m \u001b[1;34m'plat_nom.csv'\u001b[0m\u001b[1;33m)\u001b[0m\u001b[1;33m\u001b[0m\u001b[1;33m\u001b[0m\u001b[0m\n",
      "\u001b[1;31mNameError\u001b[0m: name 'images' is not defined"
     ]
    }
   ],
   "source": [
    "import cv2\n",
    "import webbrowser\n",
    "import csv\n",
    "\n",
    "harcascade = \"model/haarcascade_russian_plate_number.xml\"\n",
    "detector = cv2.QRCodeDetector()\n",
    "cap = cv2.VideoCapture(0)\n",
    "\n",
    "cap.set(3, 640) # width\n",
    "cap.set(4, 480) #height\n",
    "\n",
    "min_area = 500\n",
    "count = 0\n",
    "\n",
    "while True:\n",
    "    success, img = cap.read()\n",
    "    data, _, _ = detector.detectAndDecode(img)\n",
    "\n",
    "    plate_cascade = cv2.CascadeClassifier(harcascade)\n",
    "    img_gray = cv2.cvtColor(img, cv2.COLOR_BGR2GRAY)\n",
    "\n",
    "    plates = plate_cascade.detectMultiScale(img_gray, 1.1, 4)\n",
    "    \n",
    "    cv2.imshow(\"Result\", img)\n",
    "    for (x,y,w,h) in plates:\n",
    "        area = w * h\n",
    "        \n",
    "\n",
    "        if area > min_area:\n",
    "            cv2.rectangle(img, (x,y), (x+w, y+h), (0,255,0), 2)\n",
    "            cv2.putText(img, \"Number Plate\", (x,y-5), cv2.FONT_HERSHEY_COMPLEX_SMALL, 1, (255, 0, 255), 2)\n",
    "\n",
    "            img_roi = img[y: y+h, x:x+w]\n",
    "            cv2.imshow(\"ROI\", img_roi)\n",
    "            cv2.putText(img, \"Number Plate Detected\", (x, y - 5), cv2.FONT_HERSHEY_COMPLEX_SMALL, 1, (255, 0, 255),\n",
    "                        2)\n",
    "            cv2.imwrite(\"detected_plates/scaned_img_\" + str(count) + \".jpg\", img_roi)\n",
    "            break\n",
    "        images = \"detected_plates/scaned_img_\" + str(count) + \".jpg\"\n",
    "        count += 1\n",
    "    \n",
    "    if data:\n",
    "        if data.startswith('http') or data.startswith('https'):\n",
    "            # Jika QR code berisi URL, buka di web browser\n",
    "            webbrowser.open(data)\n",
    "            break\n",
    "        else:\n",
    "            # Jika QR code berisi teks, tampilkan teksnya\n",
    "            text_2 = data\n",
    "            break\n",
    "            \n",
    "    cv2.imshow(\"Result\", img)\n",
    "    if cv2.waitKey(1) & 0xFF == ord('q'):  # Press 'q' to quit the loop\n",
    "        break\n",
    "\n",
    "# Release the camera and close all windows when 'q' is pressed\n",
    "cap.release()\n",
    "cv2.destroyAllWindows()\n",
    "text_1 = read_plat(images)\n",
    "save_results(text_1, text_2, 'plat_nom.csv')\n"
   ]
  },
  {
   "cell_type": "code",
   "execution_count": 2,
   "id": "acacc187-d0a0-4c7a-9eda-1eba96e79c33",
   "metadata": {},
   "outputs": [
    {
     "name": "stdout",
     "output_type": "stream",
     "text": [
      "Found existing installation: opencv-python-headless 4.8.1.78\n",
      "Uninstalling opencv-python-headless-4.8.1.78:\n",
      "  Successfully uninstalled opencv-python-headless-4.8.1.78\n",
      "Requirement already satisfied: opencv-python in c:\\users\\computer\\anaconda3\\lib\\site-packages (4.8.1.78)\n",
      "Requirement already satisfied: numpy>=1.17.0 in c:\\users\\computer\\anaconda3\\lib\\site-packages (from opencv-python) (1.22.4)\n"
     ]
    }
   ],
   "source": [
    "!pip uninstall opencv-python-headless -y \n",
    "\n",
    "!pip install opencv-python --upgrade"
   ]
  },
  {
   "cell_type": "code",
   "execution_count": null,
   "id": "a1de0a1e-85e6-4f91-901a-5ff898707456",
   "metadata": {},
   "outputs": [],
   "source": [
    "!pip uninstall opencv-python"
   ]
  },
  {
   "cell_type": "code",
   "execution_count": 1,
   "id": "a7581b66",
   "metadata": {},
   "outputs": [
    {
     "name": "stdout",
     "output_type": "stream",
     "text": [
      "Requirement already satisfied: easyocr in c:\\users\\computer\\anaconda3\\lib\\site-packages (1.7.1)\n",
      "Requirement already satisfied: torchvision>=0.5 in c:\\users\\computer\\anaconda3\\lib\\site-packages (from easyocr) (0.16.1)\n",
      "Requirement already satisfied: PyYAML in c:\\users\\computer\\anaconda3\\lib\\site-packages (from easyocr) (6.0)\n",
      "Requirement already satisfied: scipy in c:\\users\\computer\\anaconda3\\lib\\site-packages (from easyocr) (1.7.1)\n",
      "Requirement already satisfied: scikit-image in c:\\users\\computer\\anaconda3\\lib\\site-packages (from easyocr) (0.18.3)\n",
      "Requirement already satisfied: opencv-python-headless in c:\\users\\computer\\anaconda3\\lib\\site-packages (from easyocr) (4.8.1.78)\n",
      "Requirement already satisfied: Shapely in c:\\users\\computer\\anaconda3\\lib\\site-packages (from easyocr) (2.0.2)\n",
      "Requirement already satisfied: ninja in c:\\users\\computer\\anaconda3\\lib\\site-packages (from easyocr) (1.11.1.1)\n",
      "Requirement already satisfied: python-bidi in c:\\users\\computer\\anaconda3\\lib\\site-packages (from easyocr) (0.4.2)\n",
      "Requirement already satisfied: torch in c:\\users\\computer\\anaconda3\\lib\\site-packages (from easyocr) (2.1.1)\n",
      "Requirement already satisfied: pyclipper in c:\\users\\computer\\anaconda3\\lib\\site-packages (from easyocr) (1.3.0.post5)\n",
      "Requirement already satisfied: Pillow in c:\\users\\computer\\anaconda3\\lib\\site-packages (from easyocr) (8.4.0)\n",
      "Requirement already satisfied: numpy in c:\\users\\computer\\anaconda3\\lib\\site-packages (from easyocr) (1.22.4)\n",
      "Requirement already satisfied: requests in c:\\users\\computer\\anaconda3\\lib\\site-packages (from torchvision>=0.5->easyocr) (2.28.2)\n",
      "Requirement already satisfied: fsspec in c:\\users\\computer\\anaconda3\\lib\\site-packages (from torch->easyocr) (2021.10.1)\n",
      "Requirement already satisfied: jinja2 in c:\\users\\computer\\anaconda3\\lib\\site-packages (from torch->easyocr) (2.11.3)\n",
      "Requirement already satisfied: sympy in c:\\users\\computer\\anaconda3\\lib\\site-packages (from torch->easyocr) (1.9)\n",
      "Requirement already satisfied: networkx in c:\\users\\computer\\anaconda3\\lib\\site-packages (from torch->easyocr) (2.6.3)\n",
      "Requirement already satisfied: typing-extensions in c:\\users\\computer\\anaconda3\\lib\\site-packages (from torch->easyocr) (3.10.0.2)\n",
      "Requirement already satisfied: filelock in c:\\users\\computer\\anaconda3\\lib\\site-packages (from torch->easyocr) (3.12.0)\n",
      "Requirement already satisfied: MarkupSafe>=0.23 in c:\\users\\computer\\anaconda3\\lib\\site-packages (from jinja2->torch->easyocr) (1.1.1)\n",
      "Requirement already satisfied: six in c:\\users\\computer\\anaconda3\\lib\\site-packages (from python-bidi->easyocr) (1.16.0)\n",
      "Requirement already satisfied: charset-normalizer<4,>=2 in c:\\users\\computer\\anaconda3\\lib\\site-packages (from requests->torchvision>=0.5->easyocr) (2.0.4)\n",
      "Requirement already satisfied: certifi>=2017.4.17 in c:\\users\\computer\\anaconda3\\lib\\site-packages (from requests->torchvision>=0.5->easyocr) (2021.10.8)\n",
      "Requirement already satisfied: idna<4,>=2.5 in c:\\users\\computer\\anaconda3\\lib\\site-packages (from requests->torchvision>=0.5->easyocr) (3.2)\n",
      "Requirement already satisfied: urllib3<1.27,>=1.21.1 in c:\\users\\computer\\anaconda3\\lib\\site-packages (from requests->torchvision>=0.5->easyocr) (1.26.7)\n",
      "Requirement already satisfied: matplotlib!=3.0.0,>=2.0.0 in c:\\users\\computer\\anaconda3\\lib\\site-packages (from scikit-image->easyocr) (3.8.1)\n",
      "Requirement already satisfied: imageio>=2.3.0 in c:\\users\\computer\\anaconda3\\lib\\site-packages (from scikit-image->easyocr) (2.9.0)\n",
      "Requirement already satisfied: tifffile>=2019.7.26 in c:\\users\\computer\\anaconda3\\lib\\site-packages (from scikit-image->easyocr) (2021.7.2)\n",
      "Requirement already satisfied: PyWavelets>=1.1.1 in c:\\users\\computer\\anaconda3\\lib\\site-packages (from scikit-image->easyocr) (1.1.1)\n",
      "Requirement already satisfied: importlib-resources>=3.2.0 in c:\\users\\computer\\anaconda3\\lib\\site-packages (from matplotlib!=3.0.0,>=2.0.0->scikit-image->easyocr) (5.12.0)\n",
      "Requirement already satisfied: contourpy>=1.0.1 in c:\\users\\computer\\anaconda3\\lib\\site-packages (from matplotlib!=3.0.0,>=2.0.0->scikit-image->easyocr) (1.2.0)\n",
      "Requirement already satisfied: kiwisolver>=1.3.1 in c:\\users\\computer\\anaconda3\\lib\\site-packages (from matplotlib!=3.0.0,>=2.0.0->scikit-image->easyocr) (1.3.1)\n",
      "Requirement already satisfied: cycler>=0.10 in c:\\users\\computer\\anaconda3\\lib\\site-packages (from matplotlib!=3.0.0,>=2.0.0->scikit-image->easyocr) (0.10.0)\n",
      "Requirement already satisfied: pyparsing>=2.3.1 in c:\\users\\computer\\anaconda3\\lib\\site-packages (from matplotlib!=3.0.0,>=2.0.0->scikit-image->easyocr) (3.0.4)\n",
      "Requirement already satisfied: python-dateutil>=2.7 in c:\\users\\computer\\anaconda3\\lib\\site-packages (from matplotlib!=3.0.0,>=2.0.0->scikit-image->easyocr) (2.8.2)\n",
      "Requirement already satisfied: fonttools>=4.22.0 in c:\\users\\computer\\anaconda3\\lib\\site-packages (from matplotlib!=3.0.0,>=2.0.0->scikit-image->easyocr) (4.25.0)\n",
      "Requirement already satisfied: packaging>=20.0 in c:\\users\\computer\\anaconda3\\lib\\site-packages (from matplotlib!=3.0.0,>=2.0.0->scikit-image->easyocr) (23.0)\n",
      "Requirement already satisfied: zipp>=3.1.0 in c:\\users\\computer\\anaconda3\\lib\\site-packages (from importlib-resources>=3.2.0->matplotlib!=3.0.0,>=2.0.0->scikit-image->easyocr) (3.6.0)\n",
      "Requirement already satisfied: mpmath>=0.19 in c:\\users\\computer\\anaconda3\\lib\\site-packages (from sympy->torch->easyocr) (1.2.1)\n"
     ]
    }
   ],
   "source": [
    "!pip install easyocr"
   ]
  },
  {
   "cell_type": "code",
   "execution_count": 1,
   "id": "f6c25e2d-f31c-4413-8760-23ea1d80aca2",
   "metadata": {
    "scrolled": true
   },
   "outputs": [
    {
     "name": "stdout",
     "output_type": "stream",
     "text": [
      "Collecting easyocr"
     ]
    },
    {
     "name": "stderr",
     "output_type": "stream",
     "text": [
      "ERROR: pip's dependency resolver does not currently take into account all the packages that are installed. This behaviour is the source of the following dependency conflicts.\n",
      "tf-models-official 2.14.2 requires gin-config, which is not installed.\n",
      "tf-models-official 2.14.2 requires immutabledict, which is not installed.\n",
      "tf-models-official 2.14.2 requires kaggle>=1.3.9, which is not installed.\n",
      "tf-models-official 2.14.2 requires oauth2client, which is not installed.\n",
      "tf-models-official 2.14.2 requires py-cpuinfo>=3.3.0, which is not installed.\n",
      "tf-models-official 2.14.2 requires sentencepiece, which is not installed.\n",
      "tf-models-official 2.14.2 requires seqeval, which is not installed.\n",
      "tf-models-official 2.14.2 requires tensorflow-datasets, which is not installed.\n",
      "tf-models-official 2.14.2 requires tensorflow-hub>=0.6.0, which is not installed.\n",
      "tf-models-official 2.14.2 requires tensorflow-model-optimization>=0.4.1, which is not installed.\n",
      "tf-models-official 2.14.2 requires tensorflow-text~=2.14.0, which is not installed.\n",
      "object-detection 0.1 requires pyparsing==2.4.7, but you have pyparsing 3.0.4 which is incompatible.\n",
      "tf-models-official 2.14.2 requires tensorflow~=2.14.0, but you have tensorflow 2.15.0 which is incompatible.\n"
     ]
    },
    {
     "name": "stdout",
     "output_type": "stream",
     "text": [
      "\n",
      "  Using cached easyocr-1.7.1-py3-none-any.whl (2.9 MB)\n",
      "Requirement already satisfied: torch in c:\\users\\computer\\anaconda3\\lib\\site-packages (from easyocr) (2.1.1)\n",
      "Collecting Shapely\n",
      "  Using cached shapely-2.0.2-cp39-cp39-win_amd64.whl (1.4 MB)\n",
      "Requirement already satisfied: Pillow in c:\\users\\computer\\anaconda3\\lib\\site-packages (from easyocr) (8.4.0)\n",
      "Collecting torchvision>=0.5\n",
      "  Using cached torchvision-0.16.1-cp39-cp39-win_amd64.whl (1.1 MB)\n",
      "Requirement already satisfied: PyYAML in c:\\users\\computer\\anaconda3\\lib\\site-packages (from easyocr) (6.0)\n",
      "Requirement already satisfied: scipy in c:\\users\\computer\\anaconda3\\lib\\site-packages (from easyocr) (1.7.1)\n",
      "Requirement already satisfied: numpy in c:\\users\\computer\\anaconda3\\lib\\site-packages (from easyocr) (1.22.4)\n",
      "Collecting python-bidi\n",
      "  Using cached python_bidi-0.4.2-py2.py3-none-any.whl (30 kB)\n",
      "Requirement already satisfied: scikit-image in c:\\users\\computer\\anaconda3\\lib\\site-packages (from easyocr) (0.18.3)\n",
      "Collecting opencv-python-headless\n",
      "  Using cached opencv_python_headless-4.8.1.78-cp37-abi3-win_amd64.whl (38.0 MB)\n",
      "Collecting pyclipper\n",
      "  Using cached pyclipper-1.3.0.post5-cp39-cp39-win_amd64.whl (108 kB)\n",
      "Collecting ninja\n",
      "  Using cached ninja-1.11.1.1-py2.py3-none-win_amd64.whl (312 kB)\n",
      "Requirement already satisfied: requests in c:\\users\\computer\\anaconda3\\lib\\site-packages (from torchvision>=0.5->easyocr) (2.28.2)\n",
      "Requirement already satisfied: jinja2 in c:\\users\\computer\\anaconda3\\lib\\site-packages (from torch->easyocr) (2.11.3)\n",
      "Requirement already satisfied: typing-extensions in c:\\users\\computer\\anaconda3\\lib\\site-packages (from torch->easyocr) (3.10.0.2)\n",
      "Requirement already satisfied: sympy in c:\\users\\computer\\anaconda3\\lib\\site-packages (from torch->easyocr) (1.9)\n",
      "Requirement already satisfied: networkx in c:\\users\\computer\\anaconda3\\lib\\site-packages (from torch->easyocr) (2.6.3)\n",
      "Requirement already satisfied: filelock in c:\\users\\computer\\anaconda3\\lib\\site-packages (from torch->easyocr) (3.12.0)\n",
      "Requirement already satisfied: fsspec in c:\\users\\computer\\anaconda3\\lib\\site-packages (from torch->easyocr) (2021.10.1)\n",
      "Requirement already satisfied: MarkupSafe>=0.23 in c:\\users\\computer\\anaconda3\\lib\\site-packages (from jinja2->torch->easyocr) (1.1.1)\n",
      "Requirement already satisfied: six in c:\\users\\computer\\anaconda3\\lib\\site-packages (from python-bidi->easyocr) (1.16.0)\n",
      "Requirement already satisfied: charset-normalizer<4,>=2 in c:\\users\\computer\\anaconda3\\lib\\site-packages (from requests->torchvision>=0.5->easyocr) (2.0.4)\n",
      "Requirement already satisfied: certifi>=2017.4.17 in c:\\users\\computer\\anaconda3\\lib\\site-packages (from requests->torchvision>=0.5->easyocr) (2021.10.8)\n",
      "Requirement already satisfied: idna<4,>=2.5 in c:\\users\\computer\\anaconda3\\lib\\site-packages (from requests->torchvision>=0.5->easyocr) (3.2)\n",
      "Requirement already satisfied: urllib3<1.27,>=1.21.1 in c:\\users\\computer\\anaconda3\\lib\\site-packages (from requests->torchvision>=0.5->easyocr) (1.26.7)\n",
      "Collecting matplotlib!=3.0.0,>=2.0.0\n",
      "  Using cached matplotlib-3.8.1-cp39-cp39-win_amd64.whl (7.6 MB)\n",
      "Requirement already satisfied: imageio>=2.3.0 in c:\\users\\computer\\anaconda3\\lib\\site-packages (from scikit-image->easyocr) (2.9.0)\n",
      "Requirement already satisfied: tifffile>=2019.7.26 in c:\\users\\computer\\anaconda3\\lib\\site-packages (from scikit-image->easyocr) (2021.7.2)\n",
      "Requirement already satisfied: PyWavelets>=1.1.1 in c:\\users\\computer\\anaconda3\\lib\\site-packages (from scikit-image->easyocr) (1.1.1)\n",
      "Requirement already satisfied: python-dateutil>=2.7 in c:\\users\\computer\\anaconda3\\lib\\site-packages (from matplotlib!=3.0.0,>=2.0.0->scikit-image->easyocr) (2.8.2)\n",
      "Requirement already satisfied: packaging>=20.0 in c:\\users\\computer\\anaconda3\\lib\\site-packages (from matplotlib!=3.0.0,>=2.0.0->scikit-image->easyocr) (23.0)\n",
      "Requirement already satisfied: kiwisolver>=1.3.1 in c:\\users\\computer\\anaconda3\\lib\\site-packages (from matplotlib!=3.0.0,>=2.0.0->scikit-image->easyocr) (1.3.1)\n",
      "Requirement already satisfied: fonttools>=4.22.0 in c:\\users\\computer\\anaconda3\\lib\\site-packages (from matplotlib!=3.0.0,>=2.0.0->scikit-image->easyocr) (4.25.0)\n",
      "Requirement already satisfied: cycler>=0.10 in c:\\users\\computer\\anaconda3\\lib\\site-packages (from matplotlib!=3.0.0,>=2.0.0->scikit-image->easyocr) (0.10.0)\n",
      "Requirement already satisfied: importlib-resources>=3.2.0 in c:\\users\\computer\\anaconda3\\lib\\site-packages (from matplotlib!=3.0.0,>=2.0.0->scikit-image->easyocr) (5.12.0)\n",
      "Requirement already satisfied: pyparsing>=2.3.1 in c:\\users\\computer\\anaconda3\\lib\\site-packages (from matplotlib!=3.0.0,>=2.0.0->scikit-image->easyocr) (3.0.4)\n",
      "Requirement already satisfied: contourpy>=1.0.1 in c:\\users\\computer\\anaconda3\\lib\\site-packages (from matplotlib!=3.0.0,>=2.0.0->scikit-image->easyocr) (1.2.0)\n",
      "Requirement already satisfied: zipp>=3.1.0 in c:\\users\\computer\\anaconda3\\lib\\site-packages (from importlib-resources>=3.2.0->matplotlib!=3.0.0,>=2.0.0->scikit-image->easyocr) (3.6.0)\n",
      "Requirement already satisfied: mpmath>=0.19 in c:\\users\\computer\\anaconda3\\lib\\site-packages (from sympy->torch->easyocr) (1.2.1)\n",
      "Installing collected packages: matplotlib, torchvision, Shapely, python-bidi, pyclipper, opencv-python-headless, ninja, easyocr\n",
      "Successfully installed Shapely-2.0.2 easyocr-1.7.1 matplotlib-3.8.1 ninja-1.11.1.1 opencv-python-headless-4.8.1.78 pyclipper-1.3.0.post5 python-bidi-0.4.2 torchvision-0.16.1\n",
      "Collecting imutils\n",
      "  Using cached imutils-0.5.4-py3-none-any.whl\n",
      "Installing collected packages: imutils\n",
      "Successfully installed imutils-0.5.4\n"
     ]
    }
   ],
   "source": [
    "!pip install easyocr\n",
    "!pip install imutils"
   ]
  },
  {
   "cell_type": "code",
   "execution_count": 3,
   "id": "50557afb",
   "metadata": {
    "collapsed": true,
    "jupyter": {
     "outputs_hidden": true
    }
   },
   "outputs": [
    {
     "name": "stdout",
     "output_type": "stream",
     "text": [
      "Collecting tensorflow==2.14.0"
     ]
    },
    {
     "name": "stderr",
     "output_type": "stream",
     "text": [
      "ERROR: Could not install packages due to an OSError: [WinError 5] Access is denied: 'C:\\\\Users\\\\COMPUTER\\\\anaconda3\\\\Lib\\\\site-packages\\\\~-mpy\\\\.libs\\\\libopenblas.EL2C6PLE4ZYW3ECEVIV3OXXGRN2NRFM2.gfortran-win_amd64.dll'\n",
      "Consider using the `--user` option or check the permissions.\n",
      "\n"
     ]
    },
    {
     "name": "stdout",
     "output_type": "stream",
     "text": [
      "\n",
      "  Downloading tensorflow-2.14.0-cp39-cp39-win_amd64.whl (2.1 kB)\n",
      "Collecting tensorflow-intel==2.14.0\n",
      "  Downloading tensorflow_intel-2.14.0-cp39-cp39-win_amd64.whl (284.1 MB)\n",
      "Requirement already satisfied: google-pasta>=0.1.1 in c:\\users\\computer\\anaconda3\\lib\\site-packages (from tensorflow-intel==2.14.0->tensorflow==2.14.0) (0.2.0)\n",
      "Requirement already satisfied: absl-py>=1.0.0 in c:\\users\\computer\\anaconda3\\lib\\site-packages (from tensorflow-intel==2.14.0->tensorflow==2.14.0) (2.0.0)\n",
      "Requirement already satisfied: h5py>=2.9.0 in c:\\users\\computer\\anaconda3\\lib\\site-packages (from tensorflow-intel==2.14.0->tensorflow==2.14.0) (3.2.1)\n",
      "Collecting tensorflow-estimator<2.15,>=2.14.0\n",
      "  Downloading tensorflow_estimator-2.14.0-py2.py3-none-any.whl (440 kB)\n",
      "Requirement already satisfied: setuptools in c:\\users\\computer\\anaconda3\\lib\\site-packages (from tensorflow-intel==2.14.0->tensorflow==2.14.0) (58.0.4)\n",
      "Requirement already satisfied: packaging in c:\\users\\computer\\anaconda3\\lib\\site-packages (from tensorflow-intel==2.14.0->tensorflow==2.14.0) (23.0)\n",
      "Requirement already satisfied: ml-dtypes==0.2.0 in c:\\users\\computer\\anaconda3\\lib\\site-packages (from tensorflow-intel==2.14.0->tensorflow==2.14.0) (0.2.0)\n",
      "Requirement already satisfied: wrapt<1.15,>=1.11.0 in c:\\users\\computer\\anaconda3\\lib\\site-packages (from tensorflow-intel==2.14.0->tensorflow==2.14.0) (1.12.1)\n",
      "Requirement already satisfied: grpcio<2.0,>=1.24.3 in c:\\users\\computer\\anaconda3\\lib\\site-packages (from tensorflow-intel==2.14.0->tensorflow==2.14.0) (1.59.2)\n",
      "Collecting numpy>=1.23.5\n",
      "  Using cached numpy-1.26.2-cp39-cp39-win_amd64.whl (15.8 MB)\n",
      "Collecting tensorboard<2.15,>=2.14\n",
      "  Downloading tensorboard-2.14.1-py3-none-any.whl (5.5 MB)\n",
      "Requirement already satisfied: opt-einsum>=2.3.2 in c:\\users\\computer\\anaconda3\\lib\\site-packages (from tensorflow-intel==2.14.0->tensorflow==2.14.0) (3.3.0)\n",
      "Requirement already satisfied: gast!=0.5.0,!=0.5.1,!=0.5.2,>=0.2.1 in c:\\users\\computer\\anaconda3\\lib\\site-packages (from tensorflow-intel==2.14.0->tensorflow==2.14.0) (0.5.4)\n",
      "Requirement already satisfied: flatbuffers>=23.5.26 in c:\\users\\computer\\anaconda3\\lib\\site-packages (from tensorflow-intel==2.14.0->tensorflow==2.14.0) (23.5.26)\n",
      "Requirement already satisfied: six>=1.12.0 in c:\\users\\computer\\anaconda3\\lib\\site-packages (from tensorflow-intel==2.14.0->tensorflow==2.14.0) (1.16.0)\n",
      "Requirement already satisfied: tensorflow-io-gcs-filesystem>=0.23.1 in c:\\users\\computer\\anaconda3\\lib\\site-packages\\tensorflow_io_gcs_filesystem-0.31.0-py3.9-win-amd64.egg (from tensorflow-intel==2.14.0->tensorflow==2.14.0) (0.31.0)\n",
      "Requirement already satisfied: astunparse>=1.6.0 in c:\\users\\computer\\anaconda3\\lib\\site-packages (from tensorflow-intel==2.14.0->tensorflow==2.14.0) (1.6.3)\n",
      "Collecting keras<2.15,>=2.14.0\n",
      "  Downloading keras-2.14.0-py3-none-any.whl (1.7 MB)\n",
      "Requirement already satisfied: termcolor>=1.1.0 in c:\\users\\computer\\anaconda3\\lib\\site-packages (from tensorflow-intel==2.14.0->tensorflow==2.14.0) (2.3.0)\n",
      "Requirement already satisfied: libclang>=13.0.0 in c:\\users\\computer\\anaconda3\\lib\\site-packages (from tensorflow-intel==2.14.0->tensorflow==2.14.0) (16.0.6)\n",
      "Requirement already satisfied: protobuf!=4.21.0,!=4.21.1,!=4.21.2,!=4.21.3,!=4.21.4,!=4.21.5,<5.0.0dev,>=3.20.3 in c:\\users\\computer\\anaconda3\\lib\\site-packages (from tensorflow-intel==2.14.0->tensorflow==2.14.0) (4.25.0)\n",
      "Requirement already satisfied: typing-extensions>=3.6.6 in c:\\users\\computer\\anaconda3\\lib\\site-packages (from tensorflow-intel==2.14.0->tensorflow==2.14.0) (3.10.0.2)\n",
      "Requirement already satisfied: wheel<1.0,>=0.23.0 in c:\\users\\computer\\anaconda3\\lib\\site-packages (from astunparse>=1.6.0->tensorflow-intel==2.14.0->tensorflow==2.14.0) (0.37.0)\n",
      "Requirement already satisfied: tensorboard-data-server<0.8.0,>=0.7.0 in c:\\users\\computer\\anaconda3\\lib\\site-packages (from tensorboard<2.15,>=2.14->tensorflow-intel==2.14.0->tensorflow==2.14.0) (0.7.2)\n",
      "Requirement already satisfied: requests<3,>=2.21.0 in c:\\users\\computer\\anaconda3\\lib\\site-packages (from tensorboard<2.15,>=2.14->tensorflow-intel==2.14.0->tensorflow==2.14.0) (2.28.2)\n",
      "Requirement already satisfied: google-auth<3,>=1.6.3 in c:\\users\\computer\\anaconda3\\lib\\site-packages (from tensorboard<2.15,>=2.14->tensorflow-intel==2.14.0->tensorflow==2.14.0) (2.16.3)\n",
      "Requirement already satisfied: werkzeug>=1.0.1 in c:\\users\\computer\\anaconda3\\lib\\site-packages (from tensorboard<2.15,>=2.14->tensorflow-intel==2.14.0->tensorflow==2.14.0) (2.0.2)\n",
      "Requirement already satisfied: google-auth-oauthlib<1.1,>=0.5 in c:\\users\\computer\\anaconda3\\lib\\site-packages (from tensorboard<2.15,>=2.14->tensorflow-intel==2.14.0->tensorflow==2.14.0) (1.0.0)\n",
      "Requirement already satisfied: markdown>=2.6.8 in c:\\users\\computer\\anaconda3\\lib\\site-packages (from tensorboard<2.15,>=2.14->tensorflow-intel==2.14.0->tensorflow==2.14.0) (3.5.1)\n",
      "Requirement already satisfied: rsa<5,>=3.1.4 in c:\\users\\computer\\anaconda3\\lib\\site-packages (from google-auth<3,>=1.6.3->tensorboard<2.15,>=2.14->tensorflow-intel==2.14.0->tensorflow==2.14.0) (4.9)\n",
      "Requirement already satisfied: cachetools<6.0,>=2.0.0 in c:\\users\\computer\\anaconda3\\lib\\site-packages (from google-auth<3,>=1.6.3->tensorboard<2.15,>=2.14->tensorflow-intel==2.14.0->tensorflow==2.14.0) (5.3.0)\n",
      "Requirement already satisfied: pyasn1-modules>=0.2.1 in c:\\users\\computer\\anaconda3\\lib\\site-packages (from google-auth<3,>=1.6.3->tensorboard<2.15,>=2.14->tensorflow-intel==2.14.0->tensorflow==2.14.0) (0.2.8)\n",
      "Requirement already satisfied: requests-oauthlib>=0.7.0 in c:\\users\\computer\\anaconda3\\lib\\site-packages (from google-auth-oauthlib<1.1,>=0.5->tensorboard<2.15,>=2.14->tensorflow-intel==2.14.0->tensorflow==2.14.0) (1.3.1)\n",
      "Requirement already satisfied: importlib-metadata>=4.4 in c:\\users\\computer\\anaconda3\\lib\\site-packages (from markdown>=2.6.8->tensorboard<2.15,>=2.14->tensorflow-intel==2.14.0->tensorflow==2.14.0) (4.8.1)\n",
      "Requirement already satisfied: zipp>=0.5 in c:\\users\\computer\\anaconda3\\lib\\site-packages (from importlib-metadata>=4.4->markdown>=2.6.8->tensorboard<2.15,>=2.14->tensorflow-intel==2.14.0->tensorflow==2.14.0) (3.6.0)\n",
      "Requirement already satisfied: pyasn1<0.5.0,>=0.4.6 in c:\\users\\computer\\anaconda3\\lib\\site-packages (from pyasn1-modules>=0.2.1->google-auth<3,>=1.6.3->tensorboard<2.15,>=2.14->tensorflow-intel==2.14.0->tensorflow==2.14.0) (0.4.8)\n",
      "Requirement already satisfied: certifi>=2017.4.17 in c:\\users\\computer\\anaconda3\\lib\\site-packages (from requests<3,>=2.21.0->tensorboard<2.15,>=2.14->tensorflow-intel==2.14.0->tensorflow==2.14.0) (2021.10.8)\n",
      "Requirement already satisfied: charset-normalizer<4,>=2 in c:\\users\\computer\\anaconda3\\lib\\site-packages (from requests<3,>=2.21.0->tensorboard<2.15,>=2.14->tensorflow-intel==2.14.0->tensorflow==2.14.0) (2.0.4)\n",
      "Requirement already satisfied: idna<4,>=2.5 in c:\\users\\computer\\anaconda3\\lib\\site-packages (from requests<3,>=2.21.0->tensorboard<2.15,>=2.14->tensorflow-intel==2.14.0->tensorflow==2.14.0) (3.2)\n",
      "Requirement already satisfied: urllib3<1.27,>=1.21.1 in c:\\users\\computer\\anaconda3\\lib\\site-packages (from requests<3,>=2.21.0->tensorboard<2.15,>=2.14->tensorflow-intel==2.14.0->tensorflow==2.14.0) (1.26.7)\n",
      "Requirement already satisfied: oauthlib>=3.0.0 in c:\\users\\computer\\anaconda3\\lib\\site-packages (from requests-oauthlib>=0.7.0->google-auth-oauthlib<1.1,>=0.5->tensorboard<2.15,>=2.14->tensorflow-intel==2.14.0->tensorflow==2.14.0) (3.2.2)\n",
      "Installing collected packages: numpy, tensorflow-estimator, tensorboard, keras, tensorflow-intel, tensorflow\n",
      "  Attempting uninstall: numpy\n",
      "    Found existing installation: numpy 1.22.4\n",
      "    Uninstalling numpy-1.22.4:\n",
      "      Successfully uninstalled numpy-1.22.4\n"
     ]
    }
   ],
   "source": [
    "!pip install tensorflow==2.14.0"
   ]
  },
  {
   "cell_type": "code",
   "execution_count": 3,
   "id": "97863a96-d72e-44bd-8b2a-2011db9694d3",
   "metadata": {},
   "outputs": [
    {
     "ename": "NameError",
     "evalue": "name '_C' is not defined",
     "output_type": "error",
     "traceback": [
      "\u001b[1;31m---------------------------------------------------------------------------\u001b[0m",
      "\u001b[1;31mNameError\u001b[0m                                 Traceback (most recent call last)",
      "\u001b[1;32m~\\AppData\\Local\\Temp/ipykernel_13996/3752549759.py\u001b[0m in \u001b[0;36m<module>\u001b[1;34m\u001b[0m\n\u001b[0;32m      3\u001b[0m \u001b[1;32mimport\u001b[0m \u001b[0mnumpy\u001b[0m \u001b[1;32mas\u001b[0m \u001b[0mnp\u001b[0m\u001b[1;33m\u001b[0m\u001b[1;33m\u001b[0m\u001b[0m\n\u001b[0;32m      4\u001b[0m \u001b[1;32mimport\u001b[0m \u001b[0mimutils\u001b[0m\u001b[1;33m\u001b[0m\u001b[1;33m\u001b[0m\u001b[0m\n\u001b[1;32m----> 5\u001b[1;33m \u001b[1;32mimport\u001b[0m \u001b[0measyocr\u001b[0m\u001b[1;33m\u001b[0m\u001b[1;33m\u001b[0m\u001b[0m\n\u001b[0m",
      "\u001b[1;32m~\\anaconda3\\lib\\site-packages\\easyocr\\__init__.py\u001b[0m in \u001b[0;36m<module>\u001b[1;34m\u001b[0m\n\u001b[1;32m----> 1\u001b[1;33m \u001b[1;32mfrom\u001b[0m \u001b[1;33m.\u001b[0m\u001b[0measyocr\u001b[0m \u001b[1;32mimport\u001b[0m \u001b[0mReader\u001b[0m\u001b[1;33m\u001b[0m\u001b[1;33m\u001b[0m\u001b[0m\n\u001b[0m\u001b[0;32m      2\u001b[0m \u001b[1;33m\u001b[0m\u001b[0m\n\u001b[0;32m      3\u001b[0m \u001b[0m__version__\u001b[0m \u001b[1;33m=\u001b[0m \u001b[1;34m'1.7.1'\u001b[0m\u001b[1;33m\u001b[0m\u001b[1;33m\u001b[0m\u001b[0m\n",
      "\u001b[1;32m~\\anaconda3\\lib\\site-packages\\easyocr\\easyocr.py\u001b[0m in \u001b[0;36m<module>\u001b[1;34m\u001b[0m\n\u001b[0;32m      1\u001b[0m \u001b[1;31m# -*- coding: utf-8 -*-\u001b[0m\u001b[1;33m\u001b[0m\u001b[1;33m\u001b[0m\u001b[0m\n\u001b[0;32m      2\u001b[0m \u001b[1;33m\u001b[0m\u001b[0m\n\u001b[1;32m----> 3\u001b[1;33m \u001b[1;32mfrom\u001b[0m \u001b[1;33m.\u001b[0m\u001b[0mrecognition\u001b[0m \u001b[1;32mimport\u001b[0m \u001b[0mget_recognizer\u001b[0m\u001b[1;33m,\u001b[0m \u001b[0mget_text\u001b[0m\u001b[1;33m\u001b[0m\u001b[1;33m\u001b[0m\u001b[0m\n\u001b[0m\u001b[0;32m      4\u001b[0m \u001b[1;32mfrom\u001b[0m \u001b[1;33m.\u001b[0m\u001b[0mutils\u001b[0m \u001b[1;32mimport\u001b[0m \u001b[0mgroup_text_box\u001b[0m\u001b[1;33m,\u001b[0m \u001b[0mget_image_list\u001b[0m\u001b[1;33m,\u001b[0m \u001b[0mcalculate_md5\u001b[0m\u001b[1;33m,\u001b[0m \u001b[0mget_paragraph\u001b[0m\u001b[1;33m,\u001b[0m\u001b[0;31m\\\u001b[0m\u001b[1;33m\u001b[0m\u001b[1;33m\u001b[0m\u001b[0m\n\u001b[0;32m      5\u001b[0m                    \u001b[0mdownload_and_unzip\u001b[0m\u001b[1;33m,\u001b[0m \u001b[0mprintProgressBar\u001b[0m\u001b[1;33m,\u001b[0m \u001b[0mdiff\u001b[0m\u001b[1;33m,\u001b[0m \u001b[0mreformat_input\u001b[0m\u001b[1;33m,\u001b[0m\u001b[0;31m\\\u001b[0m\u001b[1;33m\u001b[0m\u001b[1;33m\u001b[0m\u001b[0m\n",
      "\u001b[1;32m~\\anaconda3\\lib\\site-packages\\easyocr\\recognition.py\u001b[0m in \u001b[0;36m<module>\u001b[1;34m\u001b[0m\n\u001b[0;32m      1\u001b[0m \u001b[1;32mfrom\u001b[0m \u001b[0mPIL\u001b[0m \u001b[1;32mimport\u001b[0m \u001b[0mImage\u001b[0m\u001b[1;33m\u001b[0m\u001b[1;33m\u001b[0m\u001b[0m\n\u001b[1;32m----> 2\u001b[1;33m \u001b[1;32mimport\u001b[0m \u001b[0mtorch\u001b[0m\u001b[1;33m\u001b[0m\u001b[1;33m\u001b[0m\u001b[0m\n\u001b[0m\u001b[0;32m      3\u001b[0m \u001b[1;32mimport\u001b[0m \u001b[0mtorch\u001b[0m\u001b[1;33m.\u001b[0m\u001b[0mbackends\u001b[0m\u001b[1;33m.\u001b[0m\u001b[0mcudnn\u001b[0m \u001b[1;32mas\u001b[0m \u001b[0mcudnn\u001b[0m\u001b[1;33m\u001b[0m\u001b[1;33m\u001b[0m\u001b[0m\n\u001b[0;32m      4\u001b[0m \u001b[1;32mimport\u001b[0m \u001b[0mtorch\u001b[0m\u001b[1;33m.\u001b[0m\u001b[0mutils\u001b[0m\u001b[1;33m.\u001b[0m\u001b[0mdata\u001b[0m\u001b[1;33m\u001b[0m\u001b[1;33m\u001b[0m\u001b[0m\n\u001b[0;32m      5\u001b[0m \u001b[1;32mimport\u001b[0m \u001b[0mtorch\u001b[0m\u001b[1;33m.\u001b[0m\u001b[0mnn\u001b[0m\u001b[1;33m.\u001b[0m\u001b[0mfunctional\u001b[0m \u001b[1;32mas\u001b[0m \u001b[0mF\u001b[0m\u001b[1;33m\u001b[0m\u001b[1;33m\u001b[0m\u001b[0m\n",
      "\u001b[1;32m~\\anaconda3\\lib\\site-packages\\torch\\__init__.py\u001b[0m in \u001b[0;36m<module>\u001b[1;34m\u001b[0m\n\u001b[0;32m    463\u001b[0m     \u001b[1;32mraise\u001b[0m  \u001b[1;31m# If __file__ is not None the cause is unknown, so just re-raise.\u001b[0m\u001b[1;33m\u001b[0m\u001b[1;33m\u001b[0m\u001b[0m\n\u001b[0;32m    464\u001b[0m \u001b[1;33m\u001b[0m\u001b[0m\n\u001b[1;32m--> 465\u001b[1;33m \u001b[1;32mfor\u001b[0m \u001b[0mname\u001b[0m \u001b[1;32min\u001b[0m \u001b[0mdir\u001b[0m\u001b[1;33m(\u001b[0m\u001b[0m_C\u001b[0m\u001b[1;33m)\u001b[0m\u001b[1;33m:\u001b[0m\u001b[1;33m\u001b[0m\u001b[1;33m\u001b[0m\u001b[0m\n\u001b[0m\u001b[0;32m    466\u001b[0m     \u001b[1;32mif\u001b[0m \u001b[0mname\u001b[0m\u001b[1;33m[\u001b[0m\u001b[1;36m0\u001b[0m\u001b[1;33m]\u001b[0m \u001b[1;33m!=\u001b[0m \u001b[1;34m'_'\u001b[0m \u001b[1;32mand\u001b[0m \u001b[1;32mnot\u001b[0m \u001b[0mname\u001b[0m\u001b[1;33m.\u001b[0m\u001b[0mendswith\u001b[0m\u001b[1;33m(\u001b[0m\u001b[1;34m'Base'\u001b[0m\u001b[1;33m)\u001b[0m\u001b[1;33m:\u001b[0m\u001b[1;33m\u001b[0m\u001b[1;33m\u001b[0m\u001b[0m\n\u001b[0;32m    467\u001b[0m         \u001b[0m__all__\u001b[0m\u001b[1;33m.\u001b[0m\u001b[0mappend\u001b[0m\u001b[1;33m(\u001b[0m\u001b[0mname\u001b[0m\u001b[1;33m)\u001b[0m\u001b[1;33m\u001b[0m\u001b[1;33m\u001b[0m\u001b[0m\n",
      "\u001b[1;31mNameError\u001b[0m: name '_C' is not defined"
     ]
    }
   ],
   "source": [
    "import cv2\n",
    "from matplotlib import pyplot as plt\n",
    "import numpy as np\n",
    "import imutils\n",
    "import easyocr\n"
   ]
  },
  {
   "cell_type": "code",
   "execution_count": null,
   "id": "f50e5e78-d375-4e70-a197-f4119dd56683",
   "metadata": {},
   "outputs": [],
   "source": [
    "def read_plat(images):\n",
    "    img = cv2.imread(images)\n",
    "    gray = cv2.cvtColor(img, cv2.COLOR_BGR2GRAY) #Grayscale and Blur\n",
    "    #Apply filter and find edges for localization\n",
    "    bfilter = cv2.bilateralFilter(gray, 11, 17, 17) #Noise reduction\n",
    "    edged = cv2.Canny(bfilter, 30, 200) #Edge detection\n",
    "    # Find Contours and Apply Mask\n",
    "    keypoints = cv2.findContours(edged.copy(), cv2.RETR_TREE, cv2.CHAIN_APPROX_SIMPLE)\n",
    "    contours = imutils.grab_contours(keypoints)\n",
    "    contours = sorted(contours, key=cv2.contourArea, reverse=True)[:10]\n",
    "    \n",
    "    location = None\n",
    "    for contour in contours:\n",
    "        approx = cv2.approxPolyDP(contour, 10, True)\n",
    "        if len(approx) == 4:\n",
    "            location = approx\n",
    "            break\n",
    "            \n",
    "    mask = np.zeros(gray.shape, np.uint8)\n",
    "    new_image = cv2.drawContours(mask, [location], 0,255, -1)\n",
    "    new_image = cv2.bitwise_and(img, img, mask=mask)\n",
    "    \n",
    "    (x,y) = np.where(mask==255)\n",
    "    (x1, y1) = (np.min(x), np.min(y))\n",
    "    (x2, y2) = (np.max(x), np.max(y))\n",
    "    cropped_image = gray[x1:x2+1, y1:y2+1]\n",
    "    \n",
    "    #use easy ocr to read text\n",
    "    reader = easyocr.Reader(['en'])\n",
    "    result = reader.readtext(cropped_image)\n",
    "    text = result[0][-2]\n",
    "    return text"
   ]
  },
  {
   "cell_type": "code",
   "execution_count": 4,
   "id": "b915c9ea",
   "metadata": {},
   "outputs": [
    {
     "ename": "error",
     "evalue": "OpenCV(4.8.1) D:\\a\\opencv-python\\opencv-python\\opencv\\modules\\highgui\\src\\window.cpp:1272: error: (-2:Unspecified error) The function is not implemented. Rebuild the library with Windows, GTK+ 2.x or Cocoa support. If you are on Ubuntu or Debian, install libgtk2.0-dev and pkg-config, then re-run cmake or configure script in function 'cvShowImage'\n",
     "output_type": "error",
     "traceback": [
      "\u001b[1;31m---------------------------------------------------------------------------\u001b[0m",
      "\u001b[1;31merror\u001b[0m                                     Traceback (most recent call last)",
      "\u001b[1;32m~\\AppData\\Local\\Temp/ipykernel_13996/363111002.py\u001b[0m in \u001b[0;36m<module>\u001b[1;34m\u001b[0m\n\u001b[0;32m     27\u001b[0m \u001b[1;33m\u001b[0m\u001b[0m\n\u001b[0;32m     28\u001b[0m             \u001b[0mimg_roi\u001b[0m \u001b[1;33m=\u001b[0m \u001b[0mimg\u001b[0m\u001b[1;33m[\u001b[0m\u001b[0my\u001b[0m\u001b[1;33m:\u001b[0m \u001b[0my\u001b[0m\u001b[1;33m+\u001b[0m\u001b[0mh\u001b[0m\u001b[1;33m,\u001b[0m \u001b[0mx\u001b[0m\u001b[1;33m:\u001b[0m\u001b[0mx\u001b[0m\u001b[1;33m+\u001b[0m\u001b[0mw\u001b[0m\u001b[1;33m]\u001b[0m\u001b[1;33m\u001b[0m\u001b[1;33m\u001b[0m\u001b[0m\n\u001b[1;32m---> 29\u001b[1;33m             \u001b[0mcv2\u001b[0m\u001b[1;33m.\u001b[0m\u001b[0mimshow\u001b[0m\u001b[1;33m(\u001b[0m\u001b[1;34m\"ROI\"\u001b[0m\u001b[1;33m,\u001b[0m \u001b[0mimg_roi\u001b[0m\u001b[1;33m)\u001b[0m\u001b[1;33m\u001b[0m\u001b[1;33m\u001b[0m\u001b[0m\n\u001b[0m\u001b[0;32m     30\u001b[0m \u001b[0mtextplat\u001b[0m \u001b[1;33m=\u001b[0m \u001b[0mread_plat\u001b[0m\u001b[1;33m(\u001b[0m\u001b[0mimg\u001b[0m\u001b[1;33m)\u001b[0m\u001b[1;33m\u001b[0m\u001b[1;33m\u001b[0m\u001b[0m\n\u001b[0;32m     31\u001b[0m \u001b[1;33m\u001b[0m\u001b[0m\n",
      "\u001b[1;31merror\u001b[0m: OpenCV(4.8.1) D:\\a\\opencv-python\\opencv-python\\opencv\\modules\\highgui\\src\\window.cpp:1272: error: (-2:Unspecified error) The function is not implemented. Rebuild the library with Windows, GTK+ 2.x or Cocoa support. If you are on Ubuntu or Debian, install libgtk2.0-dev and pkg-config, then re-run cmake or configure script in function 'cvShowImage'\n"
     ]
    }
   ],
   "source": [
    "import cv2\n",
    "\n",
    "harcascade = \"model/haarcascade_russian_plate_number.xml\"\n",
    "\n",
    "cap = cv2.VideoCapture(0)\n",
    "\n",
    "cap.set(3, 640) # width\n",
    "cap.set(4, 480) #height\n",
    "\n",
    "min_area = 500\n",
    "count = 0\n",
    "\n",
    "while True:\n",
    "    success, img = cap.read()\n",
    "\n",
    "    plate_cascade = cv2.CascadeClassifier(harcascade)\n",
    "    img_gray = cv2.cvtColor(img, cv2.COLOR_BGR2GRAY)\n",
    "\n",
    "    plates = plate_cascade.detectMultiScale(img_gray, 1.1, 4)\n",
    "\n",
    "    for (x,y,w,h) in plates:\n",
    "        area = w * h\n",
    "\n",
    "        if area > min_area:\n",
    "            cv2.rectangle(img, (x,y), (x+w, y+h), (0,255,0), 2)\n",
    "            cv2.putText(img, \"Number Plate\", (x,y-5), cv2.FONT_HERSHEY_COMPLEX_SMALL, 1, (255, 0, 255), 2)\n",
    "\n",
    "            img_roi = img[y: y+h, x:x+w]\n",
    "            cv2.imshow(\"ROI\", img_roi)\n",
    "textplat = read_plat(img)\n",
    "print(textplat)    "
   ]
  },
  {
   "cell_type": "code",
   "execution_count": null,
   "id": "c59537ff-a8b3-4b16-8197-ca5a168328bc",
   "metadata": {},
   "outputs": [],
   "source": []
  }
 ],
 "metadata": {
  "kernelspec": {
   "display_name": "Python 3 (ipykernel)",
   "language": "python",
   "name": "python3"
  },
  "language_info": {
   "codemirror_mode": {
    "name": "ipython",
    "version": 3
   },
   "file_extension": ".py",
   "mimetype": "text/x-python",
   "name": "python",
   "nbconvert_exporter": "python",
   "pygments_lexer": "ipython3",
   "version": "3.9.7"
  }
 },
 "nbformat": 4,
 "nbformat_minor": 5
}
